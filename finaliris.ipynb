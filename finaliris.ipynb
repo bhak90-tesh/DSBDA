{
 "cells": [
  {
   "cell_type": "code",
   "execution_count": 1,
   "id": "8ebbe52f",
   "metadata": {},
   "outputs": [],
   "source": [
    "import pandas as pd"
   ]
  },
  {
   "cell_type": "code",
   "execution_count": 5,
   "id": "e0993a3f",
   "metadata": {},
   "outputs": [],
   "source": [
    "df=pd.read_csv(\"iris.csv\" , delimiter=';')"
   ]
  },
  {
   "cell_type": "code",
   "execution_count": 6,
   "id": "c23cebb6",
   "metadata": {},
   "outputs": [
    {
     "data": {
      "text/html": [
       "<div>\n",
       "<style scoped>\n",
       "    .dataframe tbody tr th:only-of-type {\n",
       "        vertical-align: middle;\n",
       "    }\n",
       "\n",
       "    .dataframe tbody tr th {\n",
       "        vertical-align: top;\n",
       "    }\n",
       "\n",
       "    .dataframe thead th {\n",
       "        text-align: right;\n",
       "    }\n",
       "</style>\n",
       "<table border=\"1\" class=\"dataframe\">\n",
       "  <thead>\n",
       "    <tr style=\"text-align: right;\">\n",
       "      <th></th>\n",
       "      <th>5.1,3.5,1.4,0.2,Iris-setosa</th>\n",
       "    </tr>\n",
       "  </thead>\n",
       "  <tbody>\n",
       "    <tr>\n",
       "      <th>0</th>\n",
       "      <td>4.9,3.0,1.4,0.2,Iris-setosa</td>\n",
       "    </tr>\n",
       "    <tr>\n",
       "      <th>1</th>\n",
       "      <td>4.7,3.2,1.3,0.2,Iris-setosa</td>\n",
       "    </tr>\n",
       "    <tr>\n",
       "      <th>2</th>\n",
       "      <td>4.6,3.1,1.5,0.2,Iris-setosa</td>\n",
       "    </tr>\n",
       "    <tr>\n",
       "      <th>3</th>\n",
       "      <td>5.0,3.6,1.4,0.2,Iris-setosa</td>\n",
       "    </tr>\n",
       "    <tr>\n",
       "      <th>4</th>\n",
       "      <td>5.4,3.9,1.7,0.4,Iris-setosa</td>\n",
       "    </tr>\n",
       "  </tbody>\n",
       "</table>\n",
       "</div>"
      ],
      "text/plain": [
       "   5.1,3.5,1.4,0.2,Iris-setosa\n",
       "0  4.9,3.0,1.4,0.2,Iris-setosa\n",
       "1  4.7,3.2,1.3,0.2,Iris-setosa\n",
       "2  4.6,3.1,1.5,0.2,Iris-setosa\n",
       "3  5.0,3.6,1.4,0.2,Iris-setosa\n",
       "4  5.4,3.9,1.7,0.4,Iris-setosa"
      ]
     },
     "execution_count": 6,
     "metadata": {},
     "output_type": "execute_result"
    }
   ],
   "source": [
    "df.head()"
   ]
  },
  {
   "cell_type": "code",
   "execution_count": 7,
   "id": "018ea9a9",
   "metadata": {},
   "outputs": [],
   "source": [
    "column_Names=['slength','swidth','plength','pwidth','species']"
   ]
  },
  {
   "cell_type": "code",
   "execution_count": 15,
   "id": "cd243f46",
   "metadata": {},
   "outputs": [
    {
     "name": "stdout",
     "output_type": "stream",
     "text": [
      "   slength  swidth  plength  pwidth         species\n",
      "0      4.4     2.9      1.4     0.2     Iris-setosa\n",
      "1      4.9     3.1      1.5     0.1     Iris-setosa\n",
      "2      5.4     3.7      1.5     0.2     Iris-setosa\n",
      "3      4.8     3.4      1.6     0.2     Iris-setosa\n",
      "4      5.9     3.0      5.1     1.8  Iris-virginica\n"
     ]
    }
   ],
   "source": [
    "data=[\n",
    "    [4.4,2.9,1.4,0.2,'Iris-setosa'],\n",
    "[4.9,3.1,1.5,0.1,'Iris-setosa'],\n",
    "[5.4,3.7,1.5,0.2,'Iris-setosa'],\n",
    "[4.8,3.4,1.6,0.2,'Iris-setosa'],\n",
    "[5.9,3,5.1,1.8,'Iris-virginica']\n",
    "\n",
    "]\n",
    "\n",
    "iris=pd.DataFrame(data,columns=column_Names)\n",
    "print(iris)"
   ]
  },
  {
   "cell_type": "code",
   "execution_count": 16,
   "id": "d208ffb3",
   "metadata": {},
   "outputs": [
    {
     "data": {
      "text/plain": [
       "slength    0\n",
       "swidth     0\n",
       "plength    0\n",
       "pwidth     0\n",
       "species    0\n",
       "dtype: int64"
      ]
     },
     "execution_count": 16,
     "metadata": {},
     "output_type": "execute_result"
    }
   ],
   "source": [
    "iris.isnull().sum()"
   ]
  },
  {
   "cell_type": "code",
   "execution_count": 18,
   "id": "5d7aea03",
   "metadata": {},
   "outputs": [
    {
     "name": "stdout",
     "output_type": "stream",
     "text": [
      "   slength  swidth  plength  pwidth      species\n",
      "0      4.4     2.9      1.4     0.2  Iris-setosa\n",
      "1      4.9     3.1      1.5     0.1  Iris-setosa\n",
      "2      5.4     3.7      1.5     0.2  Iris-setosa\n",
      "3      4.8     3.4      1.6     0.2  Iris-setosa\n"
     ]
    }
   ],
   "source": [
    "iris=iris[iris['species']=='Iris-setosa']\n",
    "print(iris)"
   ]
  },
  {
   "cell_type": "code",
   "execution_count": 23,
   "id": "ef42cfea",
   "metadata": {},
   "outputs": [
    {
     "name": "stdout",
     "output_type": "stream",
     "text": [
      "Empty DataFrame\n",
      "Columns: [slength, swidth, plength, pwidth, species]\n",
      "Index: []\n"
     ]
    }
   ],
   "source": [
    "irisp=iris[iris['species']=='Iris-virginica']\n",
    "print(irisp)"
   ]
  },
  {
   "cell_type": "code",
   "execution_count": 24,
   "id": "57bdbf28",
   "metadata": {},
   "outputs": [
    {
     "name": "stdout",
     "output_type": "stream",
     "text": [
      "   slength  swidth  plength  pwidth      species\n",
      "0      4.4     2.9      1.4     0.2  Iris-setosa\n",
      "1      4.9     3.1      1.5     0.1  Iris-setosa\n",
      "2      5.4     3.7      1.5     0.2  Iris-setosa\n",
      "3      4.8     3.4      1.6     0.2  Iris-setosa\n"
     ]
    }
   ],
   "source": [
    "merge=pd.concat([iris,irisp])\n",
    "print(merge)"
   ]
  },
  {
   "cell_type": "code",
   "execution_count": 26,
   "id": "dbb96661",
   "metadata": {},
   "outputs": [
    {
     "name": "stdout",
     "output_type": "stream",
     "text": [
      "   slength  swidth  plength  pwidth      species\n",
      "0      4.4     2.9      1.4     0.2  Iris-setosa\n",
      "1      4.9     3.1      1.5     0.1  Iris-setosa\n",
      "2      5.4     3.7      1.5     0.2  Iris-setosa\n",
      "3      4.8     3.4      1.6     0.2  Iris-setosa\n"
     ]
    }
   ],
   "source": [
    "sort=iris.sort_values(by='species')\n",
    "print(sort)"
   ]
  },
  {
   "cell_type": "code",
   "execution_count": 28,
   "id": "4efd0a69",
   "metadata": {},
   "outputs": [
    {
     "name": "stdout",
     "output_type": "stream",
     "text": [
      "<bound method DataFrame.transpose of    slength  swidth  plength  pwidth      species\n",
      "0      4.4     2.9      1.4     0.2  Iris-setosa\n",
      "1      4.9     3.1      1.5     0.1  Iris-setosa\n",
      "2      5.4     3.7      1.5     0.2  Iris-setosa\n",
      "3      4.8     3.4      1.6     0.2  Iris-setosa>\n"
     ]
    }
   ],
   "source": [
    "trans=iris.transpose\n",
    "print(trans)"
   ]
  },
  {
   "cell_type": "code",
   "execution_count": 31,
   "id": "39ea9d1f",
   "metadata": {},
   "outputs": [
    {
     "name": "stdout",
     "output_type": "stream",
     "text": [
      "        species variable  value\n",
      "0   Iris-setosa  slength    4.4\n",
      "1   Iris-setosa  slength    4.9\n",
      "2   Iris-setosa  slength    5.4\n",
      "3   Iris-setosa  slength    4.8\n",
      "4   Iris-setosa   swidth    2.9\n",
      "5   Iris-setosa   swidth    3.1\n",
      "6   Iris-setosa   swidth    3.7\n",
      "7   Iris-setosa   swidth    3.4\n",
      "8   Iris-setosa  plength    1.4\n",
      "9   Iris-setosa  plength    1.5\n",
      "10  Iris-setosa  plength    1.5\n",
      "11  Iris-setosa  plength    1.6\n",
      "12  Iris-setosa   pwidth    0.2\n",
      "13  Iris-setosa   pwidth    0.1\n",
      "14  Iris-setosa   pwidth    0.2\n",
      "15  Iris-setosa   pwidth    0.2\n"
     ]
    }
   ],
   "source": [
    "melt=pd.melt(iris, id_vars=['species'])\n",
    "print(melt)"
   ]
  },
  {
   "cell_type": "code",
   "execution_count": 36,
   "id": "9d4e03ce",
   "metadata": {},
   "outputs": [
    {
     "name": "stdout",
     "output_type": "stream",
     "text": [
      "variable      species  plength  pwidth  slength  swidth\n",
      "0         Iris-setosa      1.5   0.175    4.875   3.275\n"
     ]
    }
   ],
   "source": [
    "wide=melt.pivot_table(index=['species'],columns='variable',values='value').reset_index()\n",
    "print(wide)"
   ]
  },
  {
   "cell_type": "code",
   "execution_count": null,
   "id": "83e867bf",
   "metadata": {},
   "outputs": [],
   "source": []
  }
 ],
 "metadata": {
  "kernelspec": {
   "display_name": "Python 3 (ipykernel)",
   "language": "python",
   "name": "python3"
  },
  "language_info": {
   "codemirror_mode": {
    "name": "ipython",
    "version": 3
   },
   "file_extension": ".py",
   "mimetype": "text/x-python",
   "name": "python",
   "nbconvert_exporter": "python",
   "pygments_lexer": "ipython3",
   "version": "3.11.4"
  }
 },
 "nbformat": 4,
 "nbformat_minor": 5
}
